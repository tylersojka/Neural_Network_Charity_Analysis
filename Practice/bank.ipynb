{
 "metadata": {
  "language_info": {
   "codemirror_mode": {
    "name": "ipython",
    "version": 3
   },
   "file_extension": ".py",
   "mimetype": "text/x-python",
   "name": "python",
   "nbconvert_exporter": "python",
   "pygments_lexer": "ipython3",
   "version": "3.7.9-final"
  },
  "orig_nbformat": 2,
  "kernelspec": {
   "name": "python3",
   "display_name": "Python 3",
   "language": "python"
  }
 },
 "nbformat": 4,
 "nbformat_minor": 2,
 "cells": [
  {
   "cell_type": "code",
   "execution_count": 1,
   "metadata": {},
   "outputs": [
    {
     "output_type": "execute_result",
     "data": {
      "text/plain": [
       "   Age       Job Marital_Status               Education Default_Credit  \\\n",
       "0   56     other        married       Primary_Education             no   \n",
       "1   37  services        married     Secondary_Education             no   \n",
       "2   40     admin        married       Primary_Education             no   \n",
       "3   56  services        married     Secondary_Education             no   \n",
       "4   59     admin        married  Professional_Education             no   \n",
       "\n",
       "  Housing_Loan Personal_Loan Subscribed  \n",
       "0           no            no         no  \n",
       "1          yes            no         no  \n",
       "2           no            no         no  \n",
       "3           no           yes         no  \n",
       "4           no            no         no  "
      ],
      "text/html": "<div>\n<style scoped>\n    .dataframe tbody tr th:only-of-type {\n        vertical-align: middle;\n    }\n\n    .dataframe tbody tr th {\n        vertical-align: top;\n    }\n\n    .dataframe thead th {\n        text-align: right;\n    }\n</style>\n<table border=\"1\" class=\"dataframe\">\n  <thead>\n    <tr style=\"text-align: right;\">\n      <th></th>\n      <th>Age</th>\n      <th>Job</th>\n      <th>Marital_Status</th>\n      <th>Education</th>\n      <th>Default_Credit</th>\n      <th>Housing_Loan</th>\n      <th>Personal_Loan</th>\n      <th>Subscribed</th>\n    </tr>\n  </thead>\n  <tbody>\n    <tr>\n      <th>0</th>\n      <td>56</td>\n      <td>other</td>\n      <td>married</td>\n      <td>Primary_Education</td>\n      <td>no</td>\n      <td>no</td>\n      <td>no</td>\n      <td>no</td>\n    </tr>\n    <tr>\n      <th>1</th>\n      <td>37</td>\n      <td>services</td>\n      <td>married</td>\n      <td>Secondary_Education</td>\n      <td>no</td>\n      <td>yes</td>\n      <td>no</td>\n      <td>no</td>\n    </tr>\n    <tr>\n      <th>2</th>\n      <td>40</td>\n      <td>admin</td>\n      <td>married</td>\n      <td>Primary_Education</td>\n      <td>no</td>\n      <td>no</td>\n      <td>no</td>\n      <td>no</td>\n    </tr>\n    <tr>\n      <th>3</th>\n      <td>56</td>\n      <td>services</td>\n      <td>married</td>\n      <td>Secondary_Education</td>\n      <td>no</td>\n      <td>no</td>\n      <td>yes</td>\n      <td>no</td>\n    </tr>\n    <tr>\n      <th>4</th>\n      <td>59</td>\n      <td>admin</td>\n      <td>married</td>\n      <td>Professional_Education</td>\n      <td>no</td>\n      <td>no</td>\n      <td>no</td>\n      <td>no</td>\n    </tr>\n  </tbody>\n</table>\n</div>"
     },
     "metadata": {},
     "execution_count": 1
    }
   ],
   "source": [
    "# Import our dependencies\n",
    "from sklearn.model_selection import train_test_split\n",
    "from sklearn.preprocessing import StandardScaler,OneHotEncoder\n",
    "from sklearn.metrics import accuracy_score\n",
    "from sklearn.svm import SVC\n",
    "import pandas as pd\n",
    "import tensorflow as tf\n",
    "\n",
    "# Import our input dataset\n",
    "tele_df = pd.read_csv('Resources/bank_telemarketing.csv')\n",
    "tele_df.head()"
   ]
  },
  {
   "cell_type": "code",
   "execution_count": 2,
   "metadata": {},
   "outputs": [
    {
     "output_type": "execute_result",
     "data": {
      "text/plain": [
       "Job               9\n",
       "Marital_Status    3\n",
       "Education         4\n",
       "Default_Credit    2\n",
       "Housing_Loan      2\n",
       "Personal_Loan     2\n",
       "Subscribed        2\n",
       "dtype: int64"
      ]
     },
     "metadata": {},
     "execution_count": 2
    }
   ],
   "source": [
    "# Generate our categorical variable list\n",
    "tele_cat = tele_df.dtypes[tele_df.dtypes == \"object\"].index.tolist()\n",
    "\n",
    "\n",
    "# Check the number of unique values in each column\n",
    "tele_df[tele_cat].nunique()"
   ]
  },
  {
   "cell_type": "code",
   "execution_count": 3,
   "metadata": {},
   "outputs": [
    {
     "output_type": "execute_result",
     "data": {
      "text/plain": [
       "   Job_admin  Job_blue-collar  Job_entrepreneur  Job_management  Job_other  \\\n",
       "0        0.0              0.0               0.0             0.0        1.0   \n",
       "1        0.0              0.0               0.0             0.0        0.0   \n",
       "2        1.0              0.0               0.0             0.0        0.0   \n",
       "3        0.0              0.0               0.0             0.0        0.0   \n",
       "4        1.0              0.0               0.0             0.0        0.0   \n",
       "\n",
       "   Job_retired  Job_self-employed  Job_services  Job_technician  \\\n",
       "0          0.0                0.0           0.0             0.0   \n",
       "1          0.0                0.0           1.0             0.0   \n",
       "2          0.0                0.0           0.0             0.0   \n",
       "3          0.0                0.0           1.0             0.0   \n",
       "4          0.0                0.0           0.0             0.0   \n",
       "\n",
       "   Marital_Status_divorced  ...  Education_Secondary_Education  \\\n",
       "0                      0.0  ...                            0.0   \n",
       "1                      0.0  ...                            1.0   \n",
       "2                      0.0  ...                            0.0   \n",
       "3                      0.0  ...                            1.0   \n",
       "4                      0.0  ...                            0.0   \n",
       "\n",
       "   Education_Tertiary_Education  Default_Credit_no  Default_Credit_yes  \\\n",
       "0                           0.0                1.0                 0.0   \n",
       "1                           0.0                1.0                 0.0   \n",
       "2                           0.0                1.0                 0.0   \n",
       "3                           0.0                1.0                 0.0   \n",
       "4                           0.0                1.0                 0.0   \n",
       "\n",
       "   Housing_Loan_no  Housing_Loan_yes  Personal_Loan_no  Personal_Loan_yes  \\\n",
       "0              1.0               0.0               1.0                0.0   \n",
       "1              0.0               1.0               1.0                0.0   \n",
       "2              1.0               0.0               1.0                0.0   \n",
       "3              1.0               0.0               0.0                1.0   \n",
       "4              1.0               0.0               1.0                0.0   \n",
       "\n",
       "   Subscribed_no  Subscribed_yes  \n",
       "0            1.0             0.0  \n",
       "1            1.0             0.0  \n",
       "2            1.0             0.0  \n",
       "3            1.0             0.0  \n",
       "4            1.0             0.0  \n",
       "\n",
       "[5 rows x 24 columns]"
      ],
      "text/html": "<div>\n<style scoped>\n    .dataframe tbody tr th:only-of-type {\n        vertical-align: middle;\n    }\n\n    .dataframe tbody tr th {\n        vertical-align: top;\n    }\n\n    .dataframe thead th {\n        text-align: right;\n    }\n</style>\n<table border=\"1\" class=\"dataframe\">\n  <thead>\n    <tr style=\"text-align: right;\">\n      <th></th>\n      <th>Job_admin</th>\n      <th>Job_blue-collar</th>\n      <th>Job_entrepreneur</th>\n      <th>Job_management</th>\n      <th>Job_other</th>\n      <th>Job_retired</th>\n      <th>Job_self-employed</th>\n      <th>Job_services</th>\n      <th>Job_technician</th>\n      <th>Marital_Status_divorced</th>\n      <th>...</th>\n      <th>Education_Secondary_Education</th>\n      <th>Education_Tertiary_Education</th>\n      <th>Default_Credit_no</th>\n      <th>Default_Credit_yes</th>\n      <th>Housing_Loan_no</th>\n      <th>Housing_Loan_yes</th>\n      <th>Personal_Loan_no</th>\n      <th>Personal_Loan_yes</th>\n      <th>Subscribed_no</th>\n      <th>Subscribed_yes</th>\n    </tr>\n  </thead>\n  <tbody>\n    <tr>\n      <th>0</th>\n      <td>0.0</td>\n      <td>0.0</td>\n      <td>0.0</td>\n      <td>0.0</td>\n      <td>1.0</td>\n      <td>0.0</td>\n      <td>0.0</td>\n      <td>0.0</td>\n      <td>0.0</td>\n      <td>0.0</td>\n      <td>...</td>\n      <td>0.0</td>\n      <td>0.0</td>\n      <td>1.0</td>\n      <td>0.0</td>\n      <td>1.0</td>\n      <td>0.0</td>\n      <td>1.0</td>\n      <td>0.0</td>\n      <td>1.0</td>\n      <td>0.0</td>\n    </tr>\n    <tr>\n      <th>1</th>\n      <td>0.0</td>\n      <td>0.0</td>\n      <td>0.0</td>\n      <td>0.0</td>\n      <td>0.0</td>\n      <td>0.0</td>\n      <td>0.0</td>\n      <td>1.0</td>\n      <td>0.0</td>\n      <td>0.0</td>\n      <td>...</td>\n      <td>1.0</td>\n      <td>0.0</td>\n      <td>1.0</td>\n      <td>0.0</td>\n      <td>0.0</td>\n      <td>1.0</td>\n      <td>1.0</td>\n      <td>0.0</td>\n      <td>1.0</td>\n      <td>0.0</td>\n    </tr>\n    <tr>\n      <th>2</th>\n      <td>1.0</td>\n      <td>0.0</td>\n      <td>0.0</td>\n      <td>0.0</td>\n      <td>0.0</td>\n      <td>0.0</td>\n      <td>0.0</td>\n      <td>0.0</td>\n      <td>0.0</td>\n      <td>0.0</td>\n      <td>...</td>\n      <td>0.0</td>\n      <td>0.0</td>\n      <td>1.0</td>\n      <td>0.0</td>\n      <td>1.0</td>\n      <td>0.0</td>\n      <td>1.0</td>\n      <td>0.0</td>\n      <td>1.0</td>\n      <td>0.0</td>\n    </tr>\n    <tr>\n      <th>3</th>\n      <td>0.0</td>\n      <td>0.0</td>\n      <td>0.0</td>\n      <td>0.0</td>\n      <td>0.0</td>\n      <td>0.0</td>\n      <td>0.0</td>\n      <td>1.0</td>\n      <td>0.0</td>\n      <td>0.0</td>\n      <td>...</td>\n      <td>1.0</td>\n      <td>0.0</td>\n      <td>1.0</td>\n      <td>0.0</td>\n      <td>1.0</td>\n      <td>0.0</td>\n      <td>0.0</td>\n      <td>1.0</td>\n      <td>1.0</td>\n      <td>0.0</td>\n    </tr>\n    <tr>\n      <th>4</th>\n      <td>1.0</td>\n      <td>0.0</td>\n      <td>0.0</td>\n      <td>0.0</td>\n      <td>0.0</td>\n      <td>0.0</td>\n      <td>0.0</td>\n      <td>0.0</td>\n      <td>0.0</td>\n      <td>0.0</td>\n      <td>...</td>\n      <td>0.0</td>\n      <td>0.0</td>\n      <td>1.0</td>\n      <td>0.0</td>\n      <td>1.0</td>\n      <td>0.0</td>\n      <td>1.0</td>\n      <td>0.0</td>\n      <td>1.0</td>\n      <td>0.0</td>\n    </tr>\n  </tbody>\n</table>\n<p>5 rows × 24 columns</p>\n</div>"
     },
     "metadata": {},
     "execution_count": 3
    }
   ],
   "source": [
    "# Create a OneHotEncoder instance\n",
    "enc = OneHotEncoder(sparse=False)\n",
    "\n",
    "# Fit and transform the OneHotEncoder using the categorical variable list\n",
    "encode_df = pd.DataFrame(enc.fit_transform(tele_df[tele_cat]))\n",
    "\n",
    "# Add the encoded variable names to the dataframe\n",
    "encode_df.columns = enc.get_feature_names(tele_cat)\n",
    "encode_df.head()\n"
   ]
  },
  {
   "cell_type": "code",
   "execution_count": 4,
   "metadata": {},
   "outputs": [
    {
     "output_type": "execute_result",
     "data": {
      "text/plain": [
       "   Age  Job_admin  Job_blue-collar  Job_entrepreneur  Job_management  \\\n",
       "0   56        0.0              0.0               0.0             0.0   \n",
       "1   37        0.0              0.0               0.0             0.0   \n",
       "2   40        1.0              0.0               0.0             0.0   \n",
       "3   56        0.0              0.0               0.0             0.0   \n",
       "4   59        1.0              0.0               0.0             0.0   \n",
       "\n",
       "   Job_other  Job_retired  Job_self-employed  Job_services  Job_technician  \\\n",
       "0        1.0          0.0                0.0           0.0             0.0   \n",
       "1        0.0          0.0                0.0           1.0             0.0   \n",
       "2        0.0          0.0                0.0           0.0             0.0   \n",
       "3        0.0          0.0                0.0           1.0             0.0   \n",
       "4        0.0          0.0                0.0           0.0             0.0   \n",
       "\n",
       "   ...  Education_Secondary_Education  Education_Tertiary_Education  \\\n",
       "0  ...                            0.0                           0.0   \n",
       "1  ...                            1.0                           0.0   \n",
       "2  ...                            0.0                           0.0   \n",
       "3  ...                            1.0                           0.0   \n",
       "4  ...                            0.0                           0.0   \n",
       "\n",
       "   Default_Credit_no  Default_Credit_yes  Housing_Loan_no  Housing_Loan_yes  \\\n",
       "0                1.0                 0.0              1.0               0.0   \n",
       "1                1.0                 0.0              0.0               1.0   \n",
       "2                1.0                 0.0              1.0               0.0   \n",
       "3                1.0                 0.0              1.0               0.0   \n",
       "4                1.0                 0.0              1.0               0.0   \n",
       "\n",
       "   Personal_Loan_no  Personal_Loan_yes  Subscribed_no  Subscribed_yes  \n",
       "0               1.0                0.0            1.0             0.0  \n",
       "1               1.0                0.0            1.0             0.0  \n",
       "2               1.0                0.0            1.0             0.0  \n",
       "3               0.0                1.0            1.0             0.0  \n",
       "4               1.0                0.0            1.0             0.0  \n",
       "\n",
       "[5 rows x 25 columns]"
      ],
      "text/html": "<div>\n<style scoped>\n    .dataframe tbody tr th:only-of-type {\n        vertical-align: middle;\n    }\n\n    .dataframe tbody tr th {\n        vertical-align: top;\n    }\n\n    .dataframe thead th {\n        text-align: right;\n    }\n</style>\n<table border=\"1\" class=\"dataframe\">\n  <thead>\n    <tr style=\"text-align: right;\">\n      <th></th>\n      <th>Age</th>\n      <th>Job_admin</th>\n      <th>Job_blue-collar</th>\n      <th>Job_entrepreneur</th>\n      <th>Job_management</th>\n      <th>Job_other</th>\n      <th>Job_retired</th>\n      <th>Job_self-employed</th>\n      <th>Job_services</th>\n      <th>Job_technician</th>\n      <th>...</th>\n      <th>Education_Secondary_Education</th>\n      <th>Education_Tertiary_Education</th>\n      <th>Default_Credit_no</th>\n      <th>Default_Credit_yes</th>\n      <th>Housing_Loan_no</th>\n      <th>Housing_Loan_yes</th>\n      <th>Personal_Loan_no</th>\n      <th>Personal_Loan_yes</th>\n      <th>Subscribed_no</th>\n      <th>Subscribed_yes</th>\n    </tr>\n  </thead>\n  <tbody>\n    <tr>\n      <th>0</th>\n      <td>56</td>\n      <td>0.0</td>\n      <td>0.0</td>\n      <td>0.0</td>\n      <td>0.0</td>\n      <td>1.0</td>\n      <td>0.0</td>\n      <td>0.0</td>\n      <td>0.0</td>\n      <td>0.0</td>\n      <td>...</td>\n      <td>0.0</td>\n      <td>0.0</td>\n      <td>1.0</td>\n      <td>0.0</td>\n      <td>1.0</td>\n      <td>0.0</td>\n      <td>1.0</td>\n      <td>0.0</td>\n      <td>1.0</td>\n      <td>0.0</td>\n    </tr>\n    <tr>\n      <th>1</th>\n      <td>37</td>\n      <td>0.0</td>\n      <td>0.0</td>\n      <td>0.0</td>\n      <td>0.0</td>\n      <td>0.0</td>\n      <td>0.0</td>\n      <td>0.0</td>\n      <td>1.0</td>\n      <td>0.0</td>\n      <td>...</td>\n      <td>1.0</td>\n      <td>0.0</td>\n      <td>1.0</td>\n      <td>0.0</td>\n      <td>0.0</td>\n      <td>1.0</td>\n      <td>1.0</td>\n      <td>0.0</td>\n      <td>1.0</td>\n      <td>0.0</td>\n    </tr>\n    <tr>\n      <th>2</th>\n      <td>40</td>\n      <td>1.0</td>\n      <td>0.0</td>\n      <td>0.0</td>\n      <td>0.0</td>\n      <td>0.0</td>\n      <td>0.0</td>\n      <td>0.0</td>\n      <td>0.0</td>\n      <td>0.0</td>\n      <td>...</td>\n      <td>0.0</td>\n      <td>0.0</td>\n      <td>1.0</td>\n      <td>0.0</td>\n      <td>1.0</td>\n      <td>0.0</td>\n      <td>1.0</td>\n      <td>0.0</td>\n      <td>1.0</td>\n      <td>0.0</td>\n    </tr>\n    <tr>\n      <th>3</th>\n      <td>56</td>\n      <td>0.0</td>\n      <td>0.0</td>\n      <td>0.0</td>\n      <td>0.0</td>\n      <td>0.0</td>\n      <td>0.0</td>\n      <td>0.0</td>\n      <td>1.0</td>\n      <td>0.0</td>\n      <td>...</td>\n      <td>1.0</td>\n      <td>0.0</td>\n      <td>1.0</td>\n      <td>0.0</td>\n      <td>1.0</td>\n      <td>0.0</td>\n      <td>0.0</td>\n      <td>1.0</td>\n      <td>1.0</td>\n      <td>0.0</td>\n    </tr>\n    <tr>\n      <th>4</th>\n      <td>59</td>\n      <td>1.0</td>\n      <td>0.0</td>\n      <td>0.0</td>\n      <td>0.0</td>\n      <td>0.0</td>\n      <td>0.0</td>\n      <td>0.0</td>\n      <td>0.0</td>\n      <td>0.0</td>\n      <td>...</td>\n      <td>0.0</td>\n      <td>0.0</td>\n      <td>1.0</td>\n      <td>0.0</td>\n      <td>1.0</td>\n      <td>0.0</td>\n      <td>1.0</td>\n      <td>0.0</td>\n      <td>1.0</td>\n      <td>0.0</td>\n    </tr>\n  </tbody>\n</table>\n<p>5 rows × 25 columns</p>\n</div>"
     },
     "metadata": {},
     "execution_count": 4
    }
   ],
   "source": [
    "# Merge one-hot encoded features and drop the originals\n",
    "tele_df = tele_df.merge(encode_df,left_index=True, right_index=True)\n",
    "tele_df = tele_df.drop(tele_cat,1)\n",
    "tele_df.head()"
   ]
  },
  {
   "cell_type": "code",
   "execution_count": 5,
   "metadata": {},
   "outputs": [],
   "source": [
    "# Remove loan status target from features data\n",
    "y = tele_df.Subscribed_yes.values\n",
    "X = tele_df.drop(columns=[\"Subscribed_no\",\"Subscribed_yes\"]).values\n",
    "\n",
    "# Split training/test datasets\n",
    "X_train, X_test, y_train, y_test = train_test_split(X, y, random_state=42, stratify=y)\n",
    "\n",
    "# Create a StandardScaler instance\n",
    "scaler = StandardScaler()\n",
    "\n",
    "# Fit the StandardScaler\n",
    "X_scaler = scaler.fit(X_train)\n",
    "\n",
    "# Scale the data\n",
    "X_train_scaled = X_scaler.transform(X_train)\n",
    "X_test_scaled = X_scaler.transform(X_test)"
   ]
  },
  {
   "cell_type": "code",
   "execution_count": 6,
   "metadata": {},
   "outputs": [
    {
     "output_type": "stream",
     "name": "stdout",
     "text": [
      " SVM model accuracy: 0.873\n"
     ]
    }
   ],
   "source": [
    "# Create the SVM model\n",
    "svm = SVC(kernel='linear')\n",
    "\n",
    "# Train the model\n",
    "svm.fit(X_train, y_train)\n",
    "\n",
    "# Evaluate the model\n",
    "y_pred = svm.predict(X_test_scaled)\n",
    "print(f\" SVM model accuracy: {accuracy_score(y_test,y_pred):.3f}\")"
   ]
  },
  {
   "cell_type": "code",
   "execution_count": 7,
   "metadata": {},
   "outputs": [],
   "source": [
    "# Define the model - deep neural net\n",
    "number_input_features = len(X_train_scaled[0])\n",
    "hidden_nodes_layer1 =  10\n",
    "hidden_nodes_layer2 = 5\n",
    "\n",
    "nn = tf.keras.models.Sequential()\n",
    "\n",
    "# First hidden layer\n",
    "nn.add(\n",
    "    tf.keras.layers.Dense(units=hidden_nodes_layer1, input_dim=number_input_features, activation=\"relu\")\n",
    ")\n",
    "\n",
    "# Second hidden layer\n",
    "nn.add(tf.keras.layers.Dense(units=hidden_nodes_layer2, activation=\"relu\"))\n",
    "\n",
    "\n",
    "# Output layer\n",
    "nn.add(tf.keras.layers.Dense(units=1, activation=\"sigmoid\"))\n",
    "\n",
    "# Compile the Sequential model together and customize metrics\n",
    "nn.compile(loss=\"binary_crossentropy\", optimizer=\"adam\", metrics=[\"accuracy\"])"
   ]
  },
  {
   "cell_type": "code",
   "execution_count": 8,
   "metadata": {},
   "outputs": [
    {
     "output_type": "stream",
     "name": "stdout",
     "text": [
      "Epoch 1/50\n",
      "715/715 [==============================] - 1s 1ms/step - loss: 0.4505 - accuracy: 0.8260\n",
      "Epoch 2/50\n",
      "715/715 [==============================] - 1s 1ms/step - loss: 0.3786 - accuracy: 0.8720\n",
      "Epoch 3/50\n",
      "715/715 [==============================] - 1s 856us/step - loss: 0.3668 - accuracy: 0.8742\n",
      "Epoch 4/50\n",
      "715/715 [==============================] - 1s 816us/step - loss: 0.3688 - accuracy: 0.8739\n",
      "Epoch 5/50\n",
      "715/715 [==============================] - 1s 928us/step - loss: 0.3709 - accuracy: 0.8709\n",
      "Epoch 6/50\n",
      "715/715 [==============================] - 1s 1ms/step - loss: 0.3701 - accuracy: 0.8719\n",
      "Epoch 7/50\n",
      "715/715 [==============================] - 1s 1ms/step - loss: 0.3644 - accuracy: 0.8747\n",
      "Epoch 8/50\n",
      "715/715 [==============================] - 1s 1ms/step - loss: 0.3676 - accuracy: 0.8730\n",
      "Epoch 9/50\n",
      "715/715 [==============================] - 1s 767us/step - loss: 0.3631 - accuracy: 0.8745\n",
      "Epoch 10/50\n",
      "715/715 [==============================] - 1s 831us/step - loss: 0.3718 - accuracy: 0.8702\n",
      "Epoch 11/50\n",
      "715/715 [==============================] - 1s 782us/step - loss: 0.3629 - accuracy: 0.8745\n",
      "Epoch 12/50\n",
      "715/715 [==============================] - 1s 797us/step - loss: 0.3679 - accuracy: 0.8716\n",
      "Epoch 13/50\n",
      "715/715 [==============================] - 1s 797us/step - loss: 0.3643 - accuracy: 0.8732\n",
      "Epoch 14/50\n",
      "715/715 [==============================] - 1s 751us/step - loss: 0.3583 - accuracy: 0.8764\n",
      "Epoch 15/50\n",
      "715/715 [==============================] - 1s 800us/step - loss: 0.3647 - accuracy: 0.8732\n",
      "Epoch 16/50\n",
      "715/715 [==============================] - 1s 733us/step - loss: 0.3569 - accuracy: 0.8770\n",
      "Epoch 17/50\n",
      "715/715 [==============================] - 1s 761us/step - loss: 0.3672 - accuracy: 0.8720\n",
      "Epoch 18/50\n",
      "715/715 [==============================] - 1s 738us/step - loss: 0.3659 - accuracy: 0.8711\n",
      "Epoch 19/50\n",
      "715/715 [==============================] - 1s 734us/step - loss: 0.3620 - accuracy: 0.8741\n",
      "Epoch 20/50\n",
      "715/715 [==============================] - 1s 757us/step - loss: 0.3609 - accuracy: 0.8750\n",
      "Epoch 21/50\n",
      "715/715 [==============================] - 1s 1ms/step - loss: 0.3636 - accuracy: 0.8729\n",
      "Epoch 22/50\n",
      "715/715 [==============================] - 1s 802us/step - loss: 0.3603 - accuracy: 0.8749\n",
      "Epoch 23/50\n",
      "715/715 [==============================] - 1s 743us/step - loss: 0.3649 - accuracy: 0.8724\n",
      "Epoch 24/50\n",
      "715/715 [==============================] - 1s 750us/step - loss: 0.3688 - accuracy: 0.8717\n",
      "Epoch 25/50\n",
      "715/715 [==============================] - 1s 730us/step - loss: 0.3555 - accuracy: 0.8763\n",
      "Epoch 26/50\n",
      "715/715 [==============================] - 1s 761us/step - loss: 0.3570 - accuracy: 0.8758\n",
      "Epoch 27/50\n",
      "715/715 [==============================] - 1s 738us/step - loss: 0.3664 - accuracy: 0.8720\n",
      "Epoch 28/50\n",
      "715/715 [==============================] - 1s 793us/step - loss: 0.3638 - accuracy: 0.8727\n",
      "Epoch 29/50\n",
      "715/715 [==============================] - 1s 760us/step - loss: 0.3620 - accuracy: 0.8737\n",
      "Epoch 30/50\n",
      "715/715 [==============================] - 1s 768us/step - loss: 0.3599 - accuracy: 0.8748\n",
      "Epoch 31/50\n",
      "715/715 [==============================] - 1s 834us/step - loss: 0.3604 - accuracy: 0.8749\n",
      "Epoch 32/50\n",
      "715/715 [==============================] - 1s 748us/step - loss: 0.3585 - accuracy: 0.8764\n",
      "Epoch 33/50\n",
      "715/715 [==============================] - 1s 770us/step - loss: 0.3519 - accuracy: 0.8786\n",
      "Epoch 34/50\n",
      "715/715 [==============================] - 1s 770us/step - loss: 0.3613 - accuracy: 0.8737\n",
      "Epoch 35/50\n",
      "715/715 [==============================] - 1s 793us/step - loss: 0.3644 - accuracy: 0.8712\n",
      "Epoch 36/50\n",
      "715/715 [==============================] - 1s 734us/step - loss: 0.3614 - accuracy: 0.8734\n",
      "Epoch 37/50\n",
      "715/715 [==============================] - 1s 775us/step - loss: 0.3639 - accuracy: 0.8730\n",
      "Epoch 38/50\n",
      "715/715 [==============================] - 1s 744us/step - loss: 0.3585 - accuracy: 0.8754\n",
      "Epoch 39/50\n",
      "715/715 [==============================] - 1s 744us/step - loss: 0.3613 - accuracy: 0.8735\n",
      "Epoch 40/50\n",
      "715/715 [==============================] - 1s 930us/step - loss: 0.3617 - accuracy: 0.8727\n",
      "Epoch 41/50\n",
      "715/715 [==============================] - 1s 733us/step - loss: 0.3568 - accuracy: 0.8748\n",
      "Epoch 42/50\n",
      "715/715 [==============================] - 1s 769us/step - loss: 0.3534 - accuracy: 0.8778\n",
      "Epoch 43/50\n",
      "715/715 [==============================] - 1s 739us/step - loss: 0.3651 - accuracy: 0.8719\n",
      "Epoch 44/50\n",
      "715/715 [==============================] - 1s 762us/step - loss: 0.3628 - accuracy: 0.8719\n",
      "Epoch 45/50\n",
      "715/715 [==============================] - 1s 759us/step - loss: 0.3659 - accuracy: 0.8712\n",
      "Epoch 46/50\n",
      "715/715 [==============================] - 1s 765us/step - loss: 0.3542 - accuracy: 0.8779\n",
      "Epoch 47/50\n",
      "715/715 [==============================] - 1s 746us/step - loss: 0.3609 - accuracy: 0.8742\n",
      "Epoch 48/50\n",
      "715/715 [==============================] - 1s 824us/step - loss: 0.3617 - accuracy: 0.8725\n",
      "Epoch 49/50\n",
      "715/715 [==============================] - 1s 878us/step - loss: 0.3616 - accuracy: 0.8745\n",
      "Epoch 50/50\n",
      "715/715 [==============================] - 1s 751us/step - loss: 0.3584 - accuracy: 0.8745\n",
      "239/239 - 0s - loss: 0.3680 - accuracy: 0.8732\n",
      "Loss: 0.3680146634578705, Accuracy: 0.8732283711433411\n"
     ]
    }
   ],
   "source": [
    "# Train the model \n",
    "fit_model = nn.fit(X_train_scaled, y_train, epochs=50) \n",
    "# Evaluate the model using the test data \n",
    "model_loss, model_accuracy = nn.evaluate(X_test_scaled,y_test,verbose=2)\n",
    "print(f\"Loss: {model_loss}, Accuracy: {model_accuracy}\")"
   ]
  },
  {
   "cell_type": "code",
   "execution_count": null,
   "metadata": {},
   "outputs": [],
   "source": []
  }
 ]
}